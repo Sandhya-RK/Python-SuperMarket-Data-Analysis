{
 "cells": [
  {
   "cell_type": "markdown",
   "metadata": {},
   "source": [
    "# EXPLORE SALES TO OPTIMISE PROFIT RATIOS¶"
   ]
  },
  {
   "cell_type": "markdown",
   "metadata": {},
   "source": [
    "<div class=\"alert alert-block alert-info\">\n",
    "The perspective taken is to look at impacts of categories on profit ratios\n",
    "</div>"
   ]
  },
  {
   "cell_type": "code",
   "execution_count": 341,
   "metadata": {},
   "outputs": [],
   "source": [
    "import pandas as pd\n",
    "from matplotlib import pyplot as plt\n",
    "import seaborn as sb\n",
    "import math"
   ]
  },
  {
   "cell_type": "markdown",
   "metadata": {},
   "source": [
    "# Read Data Set"
   ]
  },
  {
   "cell_type": "code",
   "execution_count": 342,
   "metadata": {},
   "outputs": [],
   "source": [
    "sales_df = pd.read_csv('C:\\\\Users\\\\nxa19765\\\\Documents\\\\data\\\\TBS\\\\projects\\\\python\\\\sales.csv')"
   ]
  },
  {
   "cell_type": "markdown",
   "metadata": {},
   "source": [
    "# Exploratory Data Analysis (EDA)\n",
    "> Let's explore Data Set by displaying columns names & first rows to see what the data looks like."
   ]
  },
  {
   "cell_type": "code",
   "execution_count": 343,
   "metadata": {},
   "outputs": [
    {
     "name": "stdout",
     "output_type": "stream",
     "text": [
      "Index(['Order ID', 'Order Date', 'Order Year', 'Order Quarter', 'Ship Date',\n",
      "       'Ship Mode', 'Customer ID', 'Customer Name', 'Segment', 'Country',\n",
      "       'City', 'State', 'Postal Code', 'Region', 'Product ID', 'Category',\n",
      "       'Sub-Category', 'Product Name', 'Sales', 'Quantity', 'Discount',\n",
      "       'Profit'],\n",
      "      dtype='object')\n"
     ]
    },
    {
     "data": {
      "text/html": [
       "<div>\n",
       "<style scoped>\n",
       "    .dataframe tbody tr th:only-of-type {\n",
       "        vertical-align: middle;\n",
       "    }\n",
       "\n",
       "    .dataframe tbody tr th {\n",
       "        vertical-align: top;\n",
       "    }\n",
       "\n",
       "    .dataframe thead th {\n",
       "        text-align: right;\n",
       "    }\n",
       "</style>\n",
       "<table border=\"1\" class=\"dataframe\">\n",
       "  <thead>\n",
       "    <tr style=\"text-align: right;\">\n",
       "      <th></th>\n",
       "      <th>Order ID</th>\n",
       "      <th>Order Date</th>\n",
       "      <th>Order Year</th>\n",
       "      <th>Order Quarter</th>\n",
       "      <th>Ship Date</th>\n",
       "      <th>Ship Mode</th>\n",
       "      <th>Customer ID</th>\n",
       "      <th>Customer Name</th>\n",
       "      <th>Segment</th>\n",
       "      <th>Country</th>\n",
       "      <th>...</th>\n",
       "      <th>Postal Code</th>\n",
       "      <th>Region</th>\n",
       "      <th>Product ID</th>\n",
       "      <th>Category</th>\n",
       "      <th>Sub-Category</th>\n",
       "      <th>Product Name</th>\n",
       "      <th>Sales</th>\n",
       "      <th>Quantity</th>\n",
       "      <th>Discount</th>\n",
       "      <th>Profit</th>\n",
       "    </tr>\n",
       "  </thead>\n",
       "  <tbody>\n",
       "    <tr>\n",
       "      <td>0</td>\n",
       "      <td>CA-2018-152156</td>\n",
       "      <td>08/11/2018</td>\n",
       "      <td>2018</td>\n",
       "      <td>3</td>\n",
       "      <td>11/11/2018</td>\n",
       "      <td>Second Class</td>\n",
       "      <td>CG-12520</td>\n",
       "      <td>Claire Gute</td>\n",
       "      <td>Consumer</td>\n",
       "      <td>United States</td>\n",
       "      <td>...</td>\n",
       "      <td>42420.0</td>\n",
       "      <td>South</td>\n",
       "      <td>FUR-BO-10001798</td>\n",
       "      <td>Furniture</td>\n",
       "      <td>Bookcases</td>\n",
       "      <td>Bush Somerset Collection Bookcase</td>\n",
       "      <td>261.9600</td>\n",
       "      <td>2</td>\n",
       "      <td>0.00</td>\n",
       "      <td>41.9136</td>\n",
       "    </tr>\n",
       "    <tr>\n",
       "      <td>1</td>\n",
       "      <td>CA-2018-152156</td>\n",
       "      <td>08/11/2018</td>\n",
       "      <td>2018</td>\n",
       "      <td>3</td>\n",
       "      <td>11/11/2018</td>\n",
       "      <td>Second Class</td>\n",
       "      <td>CG-12520</td>\n",
       "      <td>Claire Gute</td>\n",
       "      <td>Consumer</td>\n",
       "      <td>United States</td>\n",
       "      <td>...</td>\n",
       "      <td>42420.0</td>\n",
       "      <td>South</td>\n",
       "      <td>FUR-CH-10000454</td>\n",
       "      <td>Furniture</td>\n",
       "      <td>Chairs</td>\n",
       "      <td>Hon Deluxe Fabric Upholstered Stacking Chairs,...</td>\n",
       "      <td>731.9400</td>\n",
       "      <td>3</td>\n",
       "      <td>0.00</td>\n",
       "      <td>219.5820</td>\n",
       "    </tr>\n",
       "    <tr>\n",
       "      <td>2</td>\n",
       "      <td>CA-2018-138688</td>\n",
       "      <td>12/06/2018</td>\n",
       "      <td>2018</td>\n",
       "      <td>4</td>\n",
       "      <td>16/06/2018</td>\n",
       "      <td>Second Class</td>\n",
       "      <td>DV-13045</td>\n",
       "      <td>Darrin Van Huff</td>\n",
       "      <td>Corporate</td>\n",
       "      <td>United States</td>\n",
       "      <td>...</td>\n",
       "      <td>90036.0</td>\n",
       "      <td>West</td>\n",
       "      <td>OFF-LA-10000240</td>\n",
       "      <td>Office Supplies</td>\n",
       "      <td>Labels</td>\n",
       "      <td>Self-Adhesive Address Labels for Typewriters b...</td>\n",
       "      <td>14.6200</td>\n",
       "      <td>2</td>\n",
       "      <td>0.00</td>\n",
       "      <td>6.8714</td>\n",
       "    </tr>\n",
       "    <tr>\n",
       "      <td>3</td>\n",
       "      <td>US-2017-108966</td>\n",
       "      <td>11/10/2017</td>\n",
       "      <td>2017</td>\n",
       "      <td>4</td>\n",
       "      <td>18/10/2017</td>\n",
       "      <td>Standard Class</td>\n",
       "      <td>SO-20335</td>\n",
       "      <td>Sean O'Donnell</td>\n",
       "      <td>Consumer</td>\n",
       "      <td>United States</td>\n",
       "      <td>...</td>\n",
       "      <td>33311.0</td>\n",
       "      <td>South</td>\n",
       "      <td>FUR-TA-10000577</td>\n",
       "      <td>Furniture</td>\n",
       "      <td>Tables</td>\n",
       "      <td>Bretford CR4500 Series Slim Rectangular Table</td>\n",
       "      <td>957.5775</td>\n",
       "      <td>5</td>\n",
       "      <td>0.45</td>\n",
       "      <td>-383.0310</td>\n",
       "    </tr>\n",
       "    <tr>\n",
       "      <td>4</td>\n",
       "      <td>US-2017-108966</td>\n",
       "      <td>11/10/2017</td>\n",
       "      <td>2017</td>\n",
       "      <td>4</td>\n",
       "      <td>18/10/2017</td>\n",
       "      <td>Standard Class</td>\n",
       "      <td>SO-20335</td>\n",
       "      <td>Sean O'Donnell</td>\n",
       "      <td>Consumer</td>\n",
       "      <td>United States</td>\n",
       "      <td>...</td>\n",
       "      <td>33311.0</td>\n",
       "      <td>South</td>\n",
       "      <td>OFF-ST-10000760</td>\n",
       "      <td>Office Supplies</td>\n",
       "      <td>Storage</td>\n",
       "      <td>Eldon Fold 'N Roll Cart System</td>\n",
       "      <td>22.3680</td>\n",
       "      <td>2</td>\n",
       "      <td>0.20</td>\n",
       "      <td>2.5164</td>\n",
       "    </tr>\n",
       "  </tbody>\n",
       "</table>\n",
       "<p>5 rows × 22 columns</p>\n",
       "</div>"
      ],
      "text/plain": [
       "         Order ID  Order Date  Order Year  Order Quarter   Ship Date  \\\n",
       "0  CA-2018-152156  08/11/2018        2018              3  11/11/2018   \n",
       "1  CA-2018-152156  08/11/2018        2018              3  11/11/2018   \n",
       "2  CA-2018-138688  12/06/2018        2018              4  16/06/2018   \n",
       "3  US-2017-108966  11/10/2017        2017              4  18/10/2017   \n",
       "4  US-2017-108966  11/10/2017        2017              4  18/10/2017   \n",
       "\n",
       "        Ship Mode Customer ID    Customer Name    Segment        Country  ...  \\\n",
       "0    Second Class    CG-12520      Claire Gute   Consumer  United States  ...   \n",
       "1    Second Class    CG-12520      Claire Gute   Consumer  United States  ...   \n",
       "2    Second Class    DV-13045  Darrin Van Huff  Corporate  United States  ...   \n",
       "3  Standard Class    SO-20335   Sean O'Donnell   Consumer  United States  ...   \n",
       "4  Standard Class    SO-20335   Sean O'Donnell   Consumer  United States  ...   \n",
       "\n",
       "  Postal Code Region       Product ID         Category Sub-Category  \\\n",
       "0     42420.0  South  FUR-BO-10001798        Furniture    Bookcases   \n",
       "1     42420.0  South  FUR-CH-10000454        Furniture       Chairs   \n",
       "2     90036.0   West  OFF-LA-10000240  Office Supplies       Labels   \n",
       "3     33311.0  South  FUR-TA-10000577        Furniture       Tables   \n",
       "4     33311.0  South  OFF-ST-10000760  Office Supplies      Storage   \n",
       "\n",
       "                                        Product Name     Sales Quantity  \\\n",
       "0                  Bush Somerset Collection Bookcase  261.9600        2   \n",
       "1  Hon Deluxe Fabric Upholstered Stacking Chairs,...  731.9400        3   \n",
       "2  Self-Adhesive Address Labels for Typewriters b...   14.6200        2   \n",
       "3      Bretford CR4500 Series Slim Rectangular Table  957.5775        5   \n",
       "4                     Eldon Fold 'N Roll Cart System   22.3680        2   \n",
       "\n",
       "   Discount    Profit  \n",
       "0      0.00   41.9136  \n",
       "1      0.00  219.5820  \n",
       "2      0.00    6.8714  \n",
       "3      0.45 -383.0310  \n",
       "4      0.20    2.5164  \n",
       "\n",
       "[5 rows x 22 columns]"
      ]
     },
     "execution_count": 343,
     "metadata": {},
     "output_type": "execute_result"
    }
   ],
   "source": [
    "print(sales_df.columns)\n",
    "sales_df.head()"
   ]
  },
  {
   "cell_type": "markdown",
   "metadata": {},
   "source": [
    "# Find out unique element per columns\n",
    "> Find out how many unique element per columns, because \"groupby\" makes sense only if there are a limited number of unique elements."
   ]
  },
  {
   "cell_type": "code",
   "execution_count": 344,
   "metadata": {},
   "outputs": [
    {
     "data": {
      "text/plain": [
       "Order ID         5009\n",
       "Order Date       1236\n",
       "Order Year          4\n",
       "Order Quarter       4\n",
       "Ship Date        1334\n",
       "Ship Mode           4\n",
       "Customer ID       793\n",
       "Customer Name     793\n",
       "Segment             3\n",
       "Country             1\n",
       "City              531\n",
       "State              49\n",
       "Postal Code       630\n",
       "Region              4\n",
       "Product ID       1862\n",
       "Category            3\n",
       "Sub-Category       17\n",
       "Product Name     1850\n",
       "Sales            5825\n",
       "Quantity           14\n",
       "Discount           12\n",
       "Profit           7287\n",
       "dtype: int64"
      ]
     },
     "execution_count": 344,
     "metadata": {},
     "output_type": "execute_result"
    }
   ],
   "source": [
    "sales_df.nunique()"
   ]
  },
  {
   "cell_type": "markdown",
   "metadata": {},
   "source": [
    "# Compute profitability indicator\n",
    "> Profit is the KPI that we want to optimise so let's look at profit ratio.\n",
    "For a single sale, the profit ratio is defined as the ratio between the amount of profit and the amount of sale."
   ]
  },
  {
   "cell_type": "code",
   "execution_count": 345,
   "metadata": {},
   "outputs": [
    {
     "data": {
      "text/html": [
       "<div>\n",
       "<style scoped>\n",
       "    .dataframe tbody tr th:only-of-type {\n",
       "        vertical-align: middle;\n",
       "    }\n",
       "\n",
       "    .dataframe tbody tr th {\n",
       "        vertical-align: top;\n",
       "    }\n",
       "\n",
       "    .dataframe thead th {\n",
       "        text-align: right;\n",
       "    }\n",
       "</style>\n",
       "<table border=\"1\" class=\"dataframe\">\n",
       "  <thead>\n",
       "    <tr style=\"text-align: right;\">\n",
       "      <th></th>\n",
       "      <th>Profit</th>\n",
       "      <th>Sales</th>\n",
       "      <th>profit ratio</th>\n",
       "    </tr>\n",
       "  </thead>\n",
       "  <tbody>\n",
       "    <tr>\n",
       "      <td>0</td>\n",
       "      <td>41.9136</td>\n",
       "      <td>261.9600</td>\n",
       "      <td>0.1600</td>\n",
       "    </tr>\n",
       "    <tr>\n",
       "      <td>1</td>\n",
       "      <td>219.5820</td>\n",
       "      <td>731.9400</td>\n",
       "      <td>0.3000</td>\n",
       "    </tr>\n",
       "    <tr>\n",
       "      <td>2</td>\n",
       "      <td>6.8714</td>\n",
       "      <td>14.6200</td>\n",
       "      <td>0.4700</td>\n",
       "    </tr>\n",
       "    <tr>\n",
       "      <td>3</td>\n",
       "      <td>-383.0310</td>\n",
       "      <td>957.5775</td>\n",
       "      <td>-0.4000</td>\n",
       "    </tr>\n",
       "    <tr>\n",
       "      <td>4</td>\n",
       "      <td>2.5164</td>\n",
       "      <td>22.3680</td>\n",
       "      <td>0.1125</td>\n",
       "    </tr>\n",
       "  </tbody>\n",
       "</table>\n",
       "</div>"
      ],
      "text/plain": [
       "     Profit     Sales  profit ratio\n",
       "0   41.9136  261.9600        0.1600\n",
       "1  219.5820  731.9400        0.3000\n",
       "2    6.8714   14.6200        0.4700\n",
       "3 -383.0310  957.5775       -0.4000\n",
       "4    2.5164   22.3680        0.1125"
      ]
     },
     "execution_count": 345,
     "metadata": {},
     "output_type": "execute_result"
    }
   ],
   "source": [
    "sales_df['profit ratio'] = sales_df['Profit'] / sales_df['Sales']\n",
    "sales_df[['Profit','Sales','profit ratio']].head()"
   ]
  },
  {
   "cell_type": "markdown",
   "metadata": {},
   "source": [
    "> Plot distribution of profit ratio of all sales to get a general feeling."
   ]
  },
  {
   "cell_type": "code",
   "execution_count": 346,
   "metadata": {},
   "outputs": [
    {
     "data": {
      "image/png": "[encoded data removed]",
      "text/plain": [
       "<Figure size 720x432 with 1 Axes>"
      ]
     },
     "metadata": {
      "needs_background": "light"
     },
     "output_type": "display_data"
    }
   ],
   "source": [
    "plt.figure( figsize = (10, 6) )\n",
    "chart=sb.distplot(sales_df['profit ratio'], hist=True)\n",
    "chart.set_title('Profit Ratio of all sales Histogram')\n",
    "plt.show()"
   ]
  },
  {
   "cell_type": "markdown",
   "metadata": {},
   "source": [
    "# Profit ratio per category\n",
    "> We want to see if all categories are consistently profitable or if some should be optimized."
   ]
  },
  {
   "cell_type": "code",
   "execution_count": 347,
   "metadata": {},
   "outputs": [
    {
     "data": {
      "text/plain": [
       "Category\n",
       "Furniture          0.024867\n",
       "Office Supplies    0.170352\n",
       "Technology         0.173957\n",
       "dtype: float64"
      ]
     },
     "execution_count": 347,
     "metadata": {},
     "output_type": "execute_result"
    }
   ],
   "source": [
    "profit_ratio_per_category = sales_df.groupby('Category').Profit.sum() / sales_df.groupby('Category').Sales.sum()\n",
    "profit_ratio_per_category"
   ]
  },
  {
   "cell_type": "markdown",
   "metadata": {},
   "source": [
    "> We want also want to see the volume of profit and sales to make sure that furniture represent a large enough volume to be interesting to be optimized."
   ]
  },
  {
   "cell_type": "code",
   "execution_count": 348,
   "metadata": {},
   "outputs": [
    {
     "data": {
      "text/html": [
       "<div>\n",
       "<style scoped>\n",
       "    .dataframe tbody tr th:only-of-type {\n",
       "        vertical-align: middle;\n",
       "    }\n",
       "\n",
       "    .dataframe tbody tr th {\n",
       "        vertical-align: top;\n",
       "    }\n",
       "\n",
       "    .dataframe thead th {\n",
       "        text-align: right;\n",
       "    }\n",
       "</style>\n",
       "<table border=\"1\" class=\"dataframe\">\n",
       "  <thead>\n",
       "    <tr style=\"text-align: right;\">\n",
       "      <th></th>\n",
       "      <th>Profit</th>\n",
       "      <th>Sales</th>\n",
       "      <th>Profit %</th>\n",
       "      <th>Sales %</th>\n",
       "      <th>Category</th>\n",
       "      <th>x_label</th>\n",
       "    </tr>\n",
       "    <tr>\n",
       "      <th>Category</th>\n",
       "      <th></th>\n",
       "      <th></th>\n",
       "      <th></th>\n",
       "      <th></th>\n",
       "      <th></th>\n",
       "      <th></th>\n",
       "    </tr>\n",
       "  </thead>\n",
       "  <tbody>\n",
       "    <tr>\n",
       "      <td>Furniture</td>\n",
       "      <td>18451.2728</td>\n",
       "      <td>741999.7953</td>\n",
       "      <td>6.4</td>\n",
       "      <td>32.3</td>\n",
       "      <td>Furniture</td>\n",
       "      <td>Category</td>\n",
       "    </tr>\n",
       "    <tr>\n",
       "      <td>Office Supplies</td>\n",
       "      <td>122490.8008</td>\n",
       "      <td>719047.0320</td>\n",
       "      <td>42.8</td>\n",
       "      <td>31.3</td>\n",
       "      <td>Office Supplies</td>\n",
       "      <td>Category</td>\n",
       "    </tr>\n",
       "    <tr>\n",
       "      <td>Technology</td>\n",
       "      <td>145454.9481</td>\n",
       "      <td>836154.0330</td>\n",
       "      <td>50.8</td>\n",
       "      <td>36.4</td>\n",
       "      <td>Technology</td>\n",
       "      <td>Category</td>\n",
       "    </tr>\n",
       "  </tbody>\n",
       "</table>\n",
       "</div>"
      ],
      "text/plain": [
       "                      Profit        Sales  Profit %  Sales %         Category  \\\n",
       "Category                                                                        \n",
       "Furniture         18451.2728  741999.7953       6.4     32.3        Furniture   \n",
       "Office Supplies  122490.8008  719047.0320      42.8     31.3  Office Supplies   \n",
       "Technology       145454.9481  836154.0330      50.8     36.4       Technology   \n",
       "\n",
       "                  x_label  \n",
       "Category                   \n",
       "Furniture        Category  \n",
       "Office Supplies  Category  \n",
       "Technology       Category  "
      ]
     },
     "execution_count": 348,
     "metadata": {},
     "output_type": "execute_result"
    },
    {
     "data": {
      "image/png": "[encoded data removed]",
      "text/plain": [
       "<Figure size 1080x576 with 2 Axes>"
      ]
     },
     "metadata": {
      "needs_background": "light"
     },
     "output_type": "display_data"
    }
   ],
   "source": [
    "# df computes volumes of profit and sales\n",
    "df = sales_df.groupby('Category')['Profit','Sales'].sum()\n",
    "# compute and append profit per category in %\n",
    "df['Profit %'] = round(100*sales_df.groupby('Category')['Profit'].sum() / sum(sales_df.groupby('Category')['Profit'].sum()),1)\n",
    "# compute and append sales per category in %\n",
    "df['Sales %']  = round(100*sales_df.groupby('Category')['Sales'].sum() / sum(sales_df.groupby('Category')['Sales'].sum()),1)\n",
    "df['Category'] = sales_df['Category'].unique()\n",
    "df['x_label'] = 'Category'\n",
    "\n",
    "plt.figure( figsize = (15, 8) )\n",
    "\n",
    "plt.subplot(1,2,1)\n",
    "chart=sb.barplot(data=df, x='x_label', hue='Category', y='Sales', ci=None)\n",
    "chart.set_title('Total Sales per category')\n",
    "chart.set_xlabel('Category')\n",
    "chart.set_ylabel('Total Sales')\n",
    "\n",
    "plt.subplot(1,2,2)\n",
    "chart=sb.barplot(data=df, x='x_label', hue='Category', y='Profit', ci=None)\n",
    "chart.set_title('Total Profit per category')\n",
    "chart.set_xlabel('Category')\n",
    "chart.set_ylabel('Total Profit')\n",
    "\n",
    "df"
   ]
  },
  {
   "cell_type": "markdown",
   "metadata": {},
   "source": [
    "> Furniture sales volume is comparable between all categories while total profit is way lower with points out to a big problem."
   ]
  },
  {
   "cell_type": "markdown",
   "metadata": {},
   "source": [
    "# Boxplot per Category\n",
    "> Plot profit category per category with box plots to see median and distribution"
   ]
  },
  {
   "cell_type": "code",
   "execution_count": 349,
   "metadata": {},
   "outputs": [
    {
     "data": {
      "image/png": "[encoded data removed]",
      "text/plain": [
       "<Figure size 720x432 with 1 Axes>"
      ]
     },
     "metadata": {
      "needs_background": "light"
     },
     "output_type": "display_data"
    }
   ],
   "source": [
    "plt.figure( figsize = (10, 6) )\n",
    "chart=sb.boxplot(data=sales_df, x='Category', y='profit ratio')\n",
    "chart.set_title('Boxplot per category')\n",
    "plt.show()"
   ]
  },
  {
   "cell_type": "markdown",
   "metadata": {},
   "source": [
    "## Finding#1 Furniture profit ratio is much lower than others categories\n",
    "> Furniture profit is very low compare to others categories, let's try to understand what/where is the issue: some specific products, some geographic factors, some temporal factors etc...."
   ]
  },
  {
   "cell_type": "markdown",
   "metadata": {},
   "source": [
    "# Look at products inside categories"
   ]
  },
  {
   "cell_type": "markdown",
   "metadata": {},
   "source": [
    "> To do the analysis of furniture we'll compare Furniture profits to other categories so first we need to select each category independently."
   ]
  },
  {
   "cell_type": "code",
   "execution_count": 350,
   "metadata": {},
   "outputs": [],
   "source": [
    "# furniture items\n",
    "furniture_df = sales_df[sales_df.Category == 'Furniture']\n",
    "#furniture_df.head()\n",
    "\n",
    "# office supplies items\n",
    "office_supplies_df = sales_df[sales_df.Category == 'Office Supplies']\n",
    "#office_supplies_df.head()\n",
    "\n",
    "# technology items\n",
    "technology_df = sales_df[sales_df.Category == 'Technology']\n",
    "#technology_df.head()\n"
   ]
  },
  {
   "cell_type": "markdown",
   "metadata": {},
   "source": [
    "> Then we compute profit ratio for each category taking the sum."
   ]
  },
  {
   "cell_type": "code",
   "execution_count": 351,
   "metadata": {},
   "outputs": [],
   "source": [
    "profit_ratio_per_product_furniture       = furniture_df.groupby('Product Name').Profit.sum()       / furniture_df.groupby('Product Name').Sales.sum()\n",
    "profit_ratio_per_product_office_supplies = office_supplies_df.groupby('Product Name').Profit.sum() / office_supplies_df.groupby('Product Name').Sales.sum()\n",
    "profit_ratio_per_product_technology      = technology_df.groupby('Product Name').Profit.sum()      / technology_df.groupby('Product Name').Sales.sum()\n",
    "\n",
    "product_profit_max                       = math.ceil(max([profit_ratio_per_product_furniture.max(),profit_ratio_per_product_office_supplies.max(),profit_ratio_per_product_technology.max()]))\n",
    "product_profit_min                       = math.floor(min([profit_ratio_per_product_furniture.min(),profit_ratio_per_product_office_supplies.min(),profit_ratio_per_product_technology.min()]))\n"
   ]
  },
  {
   "cell_type": "markdown",
   "metadata": {},
   "source": [
    "# Profit ratios per product\n",
    "> Plot profit ratios per product of all categories "
   ]
  },
  {
   "cell_type": "code",
   "execution_count": 352,
   "metadata": {},
   "outputs": [
    {
     "data": {
      "image/png": "[encoded data removed]",
      "text/plain": [
       "<Figure size 1080x1152 with 3 Axes>"
      ]
     },
     "metadata": {
      "needs_background": "light"
     },
     "output_type": "display_data"
    }
   ],
   "source": [
    "#plt.hist(profit_ratio_per_product_furniture, normed=True, bins=100)\n",
    "plt.figure( figsize = (15, 16) )\n",
    "\n",
    "plt.subplot(3,1,1)\n",
    "chart=sb.distplot(profit_ratio_per_product_furniture, hist=True)\n",
    "chart.set_title('Profit Ratio per furniture product')\n",
    "plt.xlim(-3, 1)\n",
    "\n",
    "plt.subplot(3,1,2)\n",
    "chart=sb.distplot(profit_ratio_per_product_office_supplies, hist=True)\n",
    "chart.set_title('Profit Ratio per office supplies product')\n",
    "plt.xlim(-3, 1)\n",
    "\n",
    "plt.subplot(3,1,3)\n",
    "chart=sb.distplot(profit_ratio_per_product_technology, hist=True)\n",
    "chart.set_title('Profit Ratio per technology product')\n",
    "plt.xlim(product_profit_min, product_profit_max)\n",
    "\n",
    "plt.subplots_adjust(hspace=0.4)\n",
    "\n",
    "\n",
    "plt.show()"
   ]
  },
  {
   "cell_type": "markdown",
   "metadata": {},
   "source": [
    "## Finding#2 Furniture profit ratio doesn't look great per product, many products have negative profit ratio\n",
    "## Finding#3 Technology profit ratio exhibits some outliers that have negative profit ratios, those can be improved\n",
    "\n"
   ]
  },
  {
   "cell_type": "code",
   "execution_count": 353,
   "metadata": {},
   "outputs": [
    {
     "data": {
      "text/plain": [
       "Region\n",
       "Central   -0.017528\n",
       "East       0.014625\n",
       "South      0.057726\n",
       "West       0.045544\n",
       "dtype: float64"
      ]
     },
     "execution_count": 353,
     "metadata": {},
     "output_type": "execute_result"
    }
   ],
   "source": [
    "profit_ratio_per_region_furniture = furniture_df.groupby('Region').Profit.sum() / furniture_df.groupby('Region').Sales.sum()\n",
    "profit_ratio_per_region_furniture"
   ]
  },
  {
   "cell_type": "markdown",
   "metadata": {},
   "source": [
    "## Finding#4 Furniture profit ratio is much worse on Central and East Regions than South and West\n"
   ]
  },
  {
   "cell_type": "code",
   "execution_count": 354,
   "metadata": {},
   "outputs": [
    {
     "data": {
      "text/plain": [
       "Order Year\n",
       "2016    0.034720\n",
       "2017    0.017683\n",
       "2018    0.034992\n",
       "2019    0.014014\n",
       "dtype: float64"
      ]
     },
     "execution_count": 354,
     "metadata": {},
     "output_type": "execute_result"
    }
   ],
   "source": [
    "profit_ratio_per_year_furniture = furniture_df.groupby('Order Year').Profit.sum() / furniture_df.groupby('Order Year').Sales.sum()\n",
    "profit_ratio_per_year_furniture"
   ]
  },
  {
   "cell_type": "code",
   "execution_count": 355,
   "metadata": {},
   "outputs": [
    {
     "data": {
      "text/plain": [
       "Text(0.5, 1.0, 'Profit Ratio per year for furniture')"
      ]
     },
     "execution_count": 355,
     "metadata": {},
     "output_type": "execute_result"
    },
    {
     "data": {
      "image/png": "[encoded data removed]",
      "text/plain": [
       "<Figure size 432x288 with 1 Axes>"
      ]
     },
     "metadata": {
      "needs_background": "light"
     },
     "output_type": "display_data"
    }
   ],
   "source": [
    "chart=profit_ratio_per_year_furniture.plot.bar()\n",
    "chart.set_title('Profit Ratio per year for furniture')\n"
   ]
  },
  {
   "cell_type": "markdown",
   "metadata": {},
   "source": [
    "> Profit are better on even years than odd years."
   ]
  },
  {
   "cell_type": "code",
   "execution_count": 356,
   "metadata": {},
   "outputs": [
    {
     "data": {
      "text/plain": [
       "Order Quarter\n",
       "1    0.006939\n",
       "2    0.032284\n",
       "3    0.044302\n",
       "4    0.015687\n",
       "dtype: float64"
      ]
     },
     "execution_count": 356,
     "metadata": {},
     "output_type": "execute_result"
    }
   ],
   "source": [
    "profit_ratio_per_quarter_furniture = furniture_df.groupby('Order Quarter').Profit.sum() / furniture_df.groupby('Order Quarter').Sales.sum()\n",
    "profit_ratio_per_quarter_furniture"
   ]
  },
  {
   "cell_type": "code",
   "execution_count": 357,
   "metadata": {},
   "outputs": [
    {
     "data": {
      "text/plain": [
       "Text(0.5, 1.0, 'Profit Ratio per quarter for furniture')"
      ]
     },
     "execution_count": 357,
     "metadata": {},
     "output_type": "execute_result"
    },
    {
     "data": {
      "image/png": "[encoded data removed]",
      "text/plain": [
       "<Figure size 432x288 with 1 Axes>"
      ]
     },
     "metadata": {
      "needs_background": "light"
     },
     "output_type": "display_data"
    }
   ],
   "source": [
    "chart=profit_ratio_per_quarter_furniture.plot.bar()\n",
    "chart.set_title('Profit Ratio per quarter for furniture')\n"
   ]
  },
  {
   "cell_type": "markdown",
   "metadata": {},
   "source": [
    "## Finding#5 Furniture profit ratio is really bad in Q1 and not great in Q4"
   ]
  },
  {
   "cell_type": "markdown",
   "metadata": {},
   "source": [
    "\n",
    "# Recommendations"
   ]
  },
  {
   "cell_type": "markdown",
   "metadata": {},
   "source": [
    "1. **<font size=\"4\"><font color='green'>Focus on furnitures**\n",
    "2. **<font size=\"4\"><font color='green'>Inside Furnitures, set the focus on the products with negative profit ratios**\n",
    "3. **<font size=\"4\"><font color='green'>Inside Furnitures, set the focus on Tables and Bookcases sub-categories**\n",
    "4. **<font size=\"4\"><font color='green'>Inside Furnitures, set the focus on central region first, east second**\n",
    "5. **<font size=\"4\"><font color='green'>Understand why Q1 & Q4 are worse than Q2 & Q3 for furnitures**\n"
   ]
  }
 ],
 "metadata": {
  "kernelspec": {
   "display_name": "Python 3",
   "language": "python",
   "name": "python3"
  },
  "language_info": {
   "codemirror_mode": {
    "name": "ipython",
    "version": 3
   },
   "file_extension": ".py",
   "mimetype": "text/x-python",
   "name": "python",
   "nbconvert_exporter": "python",
   "pygments_lexer": "ipython3",
   "version": "3.6.4"
  }
 },
 "nbformat": 4,
 "nbformat_minor": 2
}
